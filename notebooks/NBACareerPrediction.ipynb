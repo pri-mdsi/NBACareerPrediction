{
 "cells": [
  {
   "cell_type": "code",
   "execution_count": 69,
   "metadata": {},
   "outputs": [],
   "source": [
    "import pandas as pd\n",
    "import numpy as np\n",
    "from sklearn.preprocessing import StandardScaler\n",
    "from sklearn.model_selection import train_test_split\n",
    "from sklearn.linear_model import LogisticRegression\n",
    "\n",
    "import sklearn.metrics as metrics\n",
    "\n",
    "import matplotlib.pyplot as plt \n",
    "import seaborn as sns\n",
    "\n",
    "import warnings\n",
    "warnings.filterwarnings('ignore')"
   ]
  },
  {
   "cell_type": "code",
   "execution_count": 70,
   "metadata": {},
   "outputs": [],
   "source": [
    "#loading training dataset \n",
    "df_train_original = pd.read_csv('../data/raw/train.csv')\n",
    "df_test = pd.read_csv('../data/raw/test.csv')"
   ]
  },
  {
   "cell_type": "code",
   "execution_count": 71,
   "metadata": {},
   "outputs": [
    {
     "data": {
      "text/html": [
       "<div>\n",
       "<style scoped>\n",
       "    .dataframe tbody tr th:only-of-type {\n",
       "        vertical-align: middle;\n",
       "    }\n",
       "\n",
       "    .dataframe tbody tr th {\n",
       "        vertical-align: top;\n",
       "    }\n",
       "\n",
       "    .dataframe thead th {\n",
       "        text-align: right;\n",
       "    }\n",
       "</style>\n",
       "<table border=\"1\" class=\"dataframe\">\n",
       "  <thead>\n",
       "    <tr style=\"text-align: right;\">\n",
       "      <th></th>\n",
       "      <th>Id_old</th>\n",
       "      <th>Id</th>\n",
       "      <th>GP</th>\n",
       "      <th>MIN</th>\n",
       "      <th>PTS</th>\n",
       "      <th>FGM</th>\n",
       "      <th>FGA</th>\n",
       "      <th>FG%</th>\n",
       "      <th>3P Made</th>\n",
       "      <th>3PA</th>\n",
       "      <th>...</th>\n",
       "      <th>FTA</th>\n",
       "      <th>FT%</th>\n",
       "      <th>OREB</th>\n",
       "      <th>DREB</th>\n",
       "      <th>REB</th>\n",
       "      <th>AST</th>\n",
       "      <th>STL</th>\n",
       "      <th>BLK</th>\n",
       "      <th>TOV</th>\n",
       "      <th>TARGET_5Yrs</th>\n",
       "    </tr>\n",
       "  </thead>\n",
       "  <tbody>\n",
       "    <tr>\n",
       "      <th>count</th>\n",
       "      <td>8000.000000</td>\n",
       "      <td>8000.00000</td>\n",
       "      <td>8000.000000</td>\n",
       "      <td>8000.000000</td>\n",
       "      <td>8000.000000</td>\n",
       "      <td>8000.000000</td>\n",
       "      <td>8000.000000</td>\n",
       "      <td>8000.000000</td>\n",
       "      <td>8000.000000</td>\n",
       "      <td>8000.000000</td>\n",
       "      <td>...</td>\n",
       "      <td>8000.000000</td>\n",
       "      <td>8000.000000</td>\n",
       "      <td>8000.000000</td>\n",
       "      <td>8000.000000</td>\n",
       "      <td>8000.000000</td>\n",
       "      <td>8000.000000</td>\n",
       "      <td>8000.000000</td>\n",
       "      <td>8000.000000</td>\n",
       "      <td>8000.000000</td>\n",
       "      <td>8000.000000</td>\n",
       "    </tr>\n",
       "    <tr>\n",
       "      <th>mean</th>\n",
       "      <td>6856.971000</td>\n",
       "      <td>7798.50000</td>\n",
       "      <td>62.777875</td>\n",
       "      <td>18.576663</td>\n",
       "      <td>7.267087</td>\n",
       "      <td>2.807037</td>\n",
       "      <td>6.231213</td>\n",
       "      <td>44.608900</td>\n",
       "      <td>0.264525</td>\n",
       "      <td>0.816563</td>\n",
       "      <td>...</td>\n",
       "      <td>1.947787</td>\n",
       "      <td>71.365825</td>\n",
       "      <td>1.077838</td>\n",
       "      <td>2.168500</td>\n",
       "      <td>3.245300</td>\n",
       "      <td>1.624513</td>\n",
       "      <td>0.648688</td>\n",
       "      <td>0.245212</td>\n",
       "      <td>1.257762</td>\n",
       "      <td>0.833625</td>\n",
       "    </tr>\n",
       "    <tr>\n",
       "      <th>std</th>\n",
       "      <td>3977.447579</td>\n",
       "      <td>2309.54541</td>\n",
       "      <td>17.118774</td>\n",
       "      <td>8.935263</td>\n",
       "      <td>4.318732</td>\n",
       "      <td>1.693373</td>\n",
       "      <td>3.584559</td>\n",
       "      <td>6.155453</td>\n",
       "      <td>0.384093</td>\n",
       "      <td>1.060964</td>\n",
       "      <td>...</td>\n",
       "      <td>1.252352</td>\n",
       "      <td>10.430447</td>\n",
       "      <td>0.785670</td>\n",
       "      <td>1.392224</td>\n",
       "      <td>2.085154</td>\n",
       "      <td>1.355986</td>\n",
       "      <td>0.407626</td>\n",
       "      <td>0.821037</td>\n",
       "      <td>0.723270</td>\n",
       "      <td>0.372440</td>\n",
       "    </tr>\n",
       "    <tr>\n",
       "      <th>min</th>\n",
       "      <td>4.000000</td>\n",
       "      <td>3799.00000</td>\n",
       "      <td>-8.000000</td>\n",
       "      <td>2.900000</td>\n",
       "      <td>0.800000</td>\n",
       "      <td>0.300000</td>\n",
       "      <td>0.800000</td>\n",
       "      <td>21.300000</td>\n",
       "      <td>-1.100000</td>\n",
       "      <td>-3.100000</td>\n",
       "      <td>...</td>\n",
       "      <td>0.000000</td>\n",
       "      <td>-13.300000</td>\n",
       "      <td>0.000000</td>\n",
       "      <td>0.200000</td>\n",
       "      <td>0.300000</td>\n",
       "      <td>0.000000</td>\n",
       "      <td>0.000000</td>\n",
       "      <td>-17.900000</td>\n",
       "      <td>0.100000</td>\n",
       "      <td>0.000000</td>\n",
       "    </tr>\n",
       "    <tr>\n",
       "      <th>25%</th>\n",
       "      <td>3413.750000</td>\n",
       "      <td>5798.75000</td>\n",
       "      <td>51.000000</td>\n",
       "      <td>12.000000</td>\n",
       "      <td>4.100000</td>\n",
       "      <td>1.600000</td>\n",
       "      <td>3.600000</td>\n",
       "      <td>40.400000</td>\n",
       "      <td>0.000000</td>\n",
       "      <td>0.100000</td>\n",
       "      <td>...</td>\n",
       "      <td>1.000000</td>\n",
       "      <td>65.000000</td>\n",
       "      <td>0.500000</td>\n",
       "      <td>1.100000</td>\n",
       "      <td>1.700000</td>\n",
       "      <td>0.700000</td>\n",
       "      <td>0.300000</td>\n",
       "      <td>0.100000</td>\n",
       "      <td>0.700000</td>\n",
       "      <td>1.000000</td>\n",
       "    </tr>\n",
       "    <tr>\n",
       "      <th>50%</th>\n",
       "      <td>6787.500000</td>\n",
       "      <td>7798.50000</td>\n",
       "      <td>63.000000</td>\n",
       "      <td>16.800000</td>\n",
       "      <td>6.300000</td>\n",
       "      <td>2.400000</td>\n",
       "      <td>5.400000</td>\n",
       "      <td>44.400000</td>\n",
       "      <td>0.300000</td>\n",
       "      <td>0.800000</td>\n",
       "      <td>...</td>\n",
       "      <td>1.700000</td>\n",
       "      <td>71.400000</td>\n",
       "      <td>0.900000</td>\n",
       "      <td>1.900000</td>\n",
       "      <td>2.800000</td>\n",
       "      <td>1.300000</td>\n",
       "      <td>0.600000</td>\n",
       "      <td>0.200000</td>\n",
       "      <td>1.100000</td>\n",
       "      <td>1.000000</td>\n",
       "    </tr>\n",
       "    <tr>\n",
       "      <th>75%</th>\n",
       "      <td>10299.250000</td>\n",
       "      <td>9798.25000</td>\n",
       "      <td>74.000000</td>\n",
       "      <td>23.500000</td>\n",
       "      <td>9.500000</td>\n",
       "      <td>3.700000</td>\n",
       "      <td>8.100000</td>\n",
       "      <td>48.700000</td>\n",
       "      <td>0.500000</td>\n",
       "      <td>1.500000</td>\n",
       "      <td>...</td>\n",
       "      <td>2.600000</td>\n",
       "      <td>77.500000</td>\n",
       "      <td>1.500000</td>\n",
       "      <td>2.900000</td>\n",
       "      <td>4.300000</td>\n",
       "      <td>2.200000</td>\n",
       "      <td>0.900000</td>\n",
       "      <td>0.400000</td>\n",
       "      <td>1.600000</td>\n",
       "      <td>1.000000</td>\n",
       "    </tr>\n",
       "    <tr>\n",
       "      <th>max</th>\n",
       "      <td>13798.000000</td>\n",
       "      <td>11798.00000</td>\n",
       "      <td>123.000000</td>\n",
       "      <td>73.800000</td>\n",
       "      <td>34.200000</td>\n",
       "      <td>13.100000</td>\n",
       "      <td>28.900000</td>\n",
       "      <td>67.200000</td>\n",
       "      <td>1.700000</td>\n",
       "      <td>4.700000</td>\n",
       "      <td>...</td>\n",
       "      <td>11.100000</td>\n",
       "      <td>168.900000</td>\n",
       "      <td>5.500000</td>\n",
       "      <td>11.000000</td>\n",
       "      <td>15.900000</td>\n",
       "      <td>12.800000</td>\n",
       "      <td>3.600000</td>\n",
       "      <td>18.900000</td>\n",
       "      <td>5.300000</td>\n",
       "      <td>1.000000</td>\n",
       "    </tr>\n",
       "  </tbody>\n",
       "</table>\n",
       "<p>8 rows × 22 columns</p>\n",
       "</div>"
      ],
      "text/plain": [
       "             Id_old           Id           GP          MIN          PTS  \\\n",
       "count   8000.000000   8000.00000  8000.000000  8000.000000  8000.000000   \n",
       "mean    6856.971000   7798.50000    62.777875    18.576663     7.267087   \n",
       "std     3977.447579   2309.54541    17.118774     8.935263     4.318732   \n",
       "min        4.000000   3799.00000    -8.000000     2.900000     0.800000   \n",
       "25%     3413.750000   5798.75000    51.000000    12.000000     4.100000   \n",
       "50%     6787.500000   7798.50000    63.000000    16.800000     6.300000   \n",
       "75%    10299.250000   9798.25000    74.000000    23.500000     9.500000   \n",
       "max    13798.000000  11798.00000   123.000000    73.800000    34.200000   \n",
       "\n",
       "               FGM          FGA          FG%      3P Made          3PA  ...  \\\n",
       "count  8000.000000  8000.000000  8000.000000  8000.000000  8000.000000  ...   \n",
       "mean      2.807037     6.231213    44.608900     0.264525     0.816563  ...   \n",
       "std       1.693373     3.584559     6.155453     0.384093     1.060964  ...   \n",
       "min       0.300000     0.800000    21.300000    -1.100000    -3.100000  ...   \n",
       "25%       1.600000     3.600000    40.400000     0.000000     0.100000  ...   \n",
       "50%       2.400000     5.400000    44.400000     0.300000     0.800000  ...   \n",
       "75%       3.700000     8.100000    48.700000     0.500000     1.500000  ...   \n",
       "max      13.100000    28.900000    67.200000     1.700000     4.700000  ...   \n",
       "\n",
       "               FTA          FT%         OREB         DREB          REB  \\\n",
       "count  8000.000000  8000.000000  8000.000000  8000.000000  8000.000000   \n",
       "mean      1.947787    71.365825     1.077838     2.168500     3.245300   \n",
       "std       1.252352    10.430447     0.785670     1.392224     2.085154   \n",
       "min       0.000000   -13.300000     0.000000     0.200000     0.300000   \n",
       "25%       1.000000    65.000000     0.500000     1.100000     1.700000   \n",
       "50%       1.700000    71.400000     0.900000     1.900000     2.800000   \n",
       "75%       2.600000    77.500000     1.500000     2.900000     4.300000   \n",
       "max      11.100000   168.900000     5.500000    11.000000    15.900000   \n",
       "\n",
       "               AST          STL          BLK          TOV  TARGET_5Yrs  \n",
       "count  8000.000000  8000.000000  8000.000000  8000.000000  8000.000000  \n",
       "mean      1.624513     0.648688     0.245212     1.257762     0.833625  \n",
       "std       1.355986     0.407626     0.821037     0.723270     0.372440  \n",
       "min       0.000000     0.000000   -17.900000     0.100000     0.000000  \n",
       "25%       0.700000     0.300000     0.100000     0.700000     1.000000  \n",
       "50%       1.300000     0.600000     0.200000     1.100000     1.000000  \n",
       "75%       2.200000     0.900000     0.400000     1.600000     1.000000  \n",
       "max      12.800000     3.600000    18.900000     5.300000     1.000000  \n",
       "\n",
       "[8 rows x 22 columns]"
      ]
     },
     "execution_count": 71,
     "metadata": {},
     "output_type": "execute_result"
    }
   ],
   "source": [
    "#exploration \n",
    "df_train_original.describe()"
   ]
  },
  {
   "cell_type": "code",
   "execution_count": 72,
   "metadata": {},
   "outputs": [
    {
     "data": {
      "text/plain": [
       "array([[<matplotlib.axes._subplots.AxesSubplot object at 0x7f87a3ca0cd0>,\n",
       "        <matplotlib.axes._subplots.AxesSubplot object at 0x7f87a3eaa4f0>,\n",
       "        <matplotlib.axes._subplots.AxesSubplot object at 0x7f87a1fe7970>],\n",
       "       [<matplotlib.axes._subplots.AxesSubplot object at 0x7f87a2013dc0>,\n",
       "        <matplotlib.axes._subplots.AxesSubplot object at 0x7f87a204b250>,\n",
       "        <matplotlib.axes._subplots.AxesSubplot object at 0x7f87a2077550>],\n",
       "       [<matplotlib.axes._subplots.AxesSubplot object at 0x7f87a2077640>,\n",
       "        <matplotlib.axes._subplots.AxesSubplot object at 0x7f87a20a2af0>,\n",
       "        <matplotlib.axes._subplots.AxesSubplot object at 0x7f87a29f7370>],\n",
       "       [<matplotlib.axes._subplots.AxesSubplot object at 0x7f87a2a247c0>,\n",
       "        <matplotlib.axes._subplots.AxesSubplot object at 0x7f87a2a4fc10>,\n",
       "        <matplotlib.axes._subplots.AxesSubplot object at 0x7f87a2a7d100>],\n",
       "       [<matplotlib.axes._subplots.AxesSubplot object at 0x7f87a2ab74f0>,\n",
       "        <matplotlib.axes._subplots.AxesSubplot object at 0x7f87a2ae3940>,\n",
       "        <matplotlib.axes._subplots.AxesSubplot object at 0x7f87a2b0fd90>],\n",
       "       [<matplotlib.axes._subplots.AxesSubplot object at 0x7f87a3592220>,\n",
       "        <matplotlib.axes._subplots.AxesSubplot object at 0x7f87a3986670>,\n",
       "        <matplotlib.axes._subplots.AxesSubplot object at 0x7f87a39b2ac0>],\n",
       "       [<matplotlib.axes._subplots.AxesSubplot object at 0x7f87a39e0f10>,\n",
       "        <matplotlib.axes._subplots.AxesSubplot object at 0x7f87a3a193a0>,\n",
       "        <matplotlib.axes._subplots.AxesSubplot object at 0x7f87a3a3f100>],\n",
       "       [<matplotlib.axes._subplots.AxesSubplot object at 0x7f87a3a74820>,\n",
       "        <matplotlib.axes._subplots.AxesSubplot object at 0x7f87a3a9dfd0>,\n",
       "        <matplotlib.axes._subplots.AxesSubplot object at 0x7f87a451b850>],\n",
       "       [<matplotlib.axes._subplots.AxesSubplot object at 0x7f87a4554040>,\n",
       "        <matplotlib.axes._subplots.AxesSubplot object at 0x7f87a457b790>,\n",
       "        <matplotlib.axes._subplots.AxesSubplot object at 0x7f87a45a5f10>]],\n",
       "      dtype=object)"
      ]
     },
     "execution_count": 72,
     "metadata": {},
     "output_type": "execute_result"
    },
    {
     "data": {
      "image/png": "[encoded data removed]",
      "text/plain": [
       "<Figure size 1080x2160 with 27 Axes>"
      ]
     },
     "metadata": {
      "needs_background": "light"
     },
     "output_type": "display_data"
    }
   ],
   "source": [
    "df_train_original.hist(figsize=(15,30),layout=(9,3))"
   ]
  },
  {
   "cell_type": "code",
   "execution_count": 73,
   "metadata": {},
   "outputs": [
    {
     "data": {
      "image/png": "[encoded data removed]",
      "text/plain": [
       "<Figure size 432x288 with 1 Axes>"
      ]
     },
     "metadata": {
      "needs_background": "light"
     },
     "output_type": "display_data"
    }
   ],
   "source": [
    "sns.countplot(x='TARGET_5Yrs',data=df_train_original, palette='hls')\n",
    "plt.show()"
   ]
  },
  {
   "cell_type": "code",
   "execution_count": 74,
   "metadata": {},
   "outputs": [],
   "source": [
    "#df_train.drop('Id', axis=1, inplace=True)\n",
    "#df_train.drop('Id_old', axis=1, inplace=True)"
   ]
  },
  {
   "cell_type": "code",
   "execution_count": 75,
   "metadata": {},
   "outputs": [],
   "source": [
    "# Save target variable\n",
    "target = df_train_original.pop('TARGET_5Yrs')"
   ]
  },
  {
   "cell_type": "code",
   "execution_count": 76,
   "metadata": {},
   "outputs": [
    {
     "data": {
      "text/html": [
       "<div>\n",
       "<style scoped>\n",
       "    .dataframe tbody tr th:only-of-type {\n",
       "        vertical-align: middle;\n",
       "    }\n",
       "\n",
       "    .dataframe tbody tr th {\n",
       "        vertical-align: top;\n",
       "    }\n",
       "\n",
       "    .dataframe thead th {\n",
       "        text-align: right;\n",
       "    }\n",
       "</style>\n",
       "<table border=\"1\" class=\"dataframe\">\n",
       "  <thead>\n",
       "    <tr style=\"text-align: right;\">\n",
       "      <th></th>\n",
       "      <th>Id_old</th>\n",
       "      <th>Id</th>\n",
       "      <th>GP</th>\n",
       "      <th>MIN</th>\n",
       "      <th>PTS</th>\n",
       "      <th>FGM</th>\n",
       "      <th>FGA</th>\n",
       "      <th>FG%</th>\n",
       "      <th>3P Made</th>\n",
       "      <th>3PA</th>\n",
       "      <th>...</th>\n",
       "      <th>FTM</th>\n",
       "      <th>FTA</th>\n",
       "      <th>FT%</th>\n",
       "      <th>OREB</th>\n",
       "      <th>DREB</th>\n",
       "      <th>REB</th>\n",
       "      <th>AST</th>\n",
       "      <th>STL</th>\n",
       "      <th>BLK</th>\n",
       "      <th>TOV</th>\n",
       "    </tr>\n",
       "  </thead>\n",
       "  <tbody>\n",
       "    <tr>\n",
       "      <th>count</th>\n",
       "      <td>8000.000000</td>\n",
       "      <td>8000.00000</td>\n",
       "      <td>8000.000000</td>\n",
       "      <td>8000.000000</td>\n",
       "      <td>8000.000000</td>\n",
       "      <td>8000.000000</td>\n",
       "      <td>8000.000000</td>\n",
       "      <td>8000.000000</td>\n",
       "      <td>8000.000000</td>\n",
       "      <td>8000.000000</td>\n",
       "      <td>...</td>\n",
       "      <td>8000.000000</td>\n",
       "      <td>8000.000000</td>\n",
       "      <td>8000.000000</td>\n",
       "      <td>8000.000000</td>\n",
       "      <td>8000.000000</td>\n",
       "      <td>8000.000000</td>\n",
       "      <td>8000.000000</td>\n",
       "      <td>8000.000000</td>\n",
       "      <td>8000.000000</td>\n",
       "      <td>8000.000000</td>\n",
       "    </tr>\n",
       "    <tr>\n",
       "      <th>mean</th>\n",
       "      <td>6856.971000</td>\n",
       "      <td>7798.50000</td>\n",
       "      <td>62.777875</td>\n",
       "      <td>18.576663</td>\n",
       "      <td>7.267087</td>\n",
       "      <td>2.807037</td>\n",
       "      <td>6.231213</td>\n",
       "      <td>44.608900</td>\n",
       "      <td>0.264525</td>\n",
       "      <td>0.816563</td>\n",
       "      <td>...</td>\n",
       "      <td>1.392525</td>\n",
       "      <td>1.947787</td>\n",
       "      <td>71.365825</td>\n",
       "      <td>1.077838</td>\n",
       "      <td>2.168500</td>\n",
       "      <td>3.245300</td>\n",
       "      <td>1.624513</td>\n",
       "      <td>0.648688</td>\n",
       "      <td>0.245212</td>\n",
       "      <td>1.257762</td>\n",
       "    </tr>\n",
       "    <tr>\n",
       "      <th>std</th>\n",
       "      <td>3977.447579</td>\n",
       "      <td>2309.54541</td>\n",
       "      <td>17.118774</td>\n",
       "      <td>8.935263</td>\n",
       "      <td>4.318732</td>\n",
       "      <td>1.693373</td>\n",
       "      <td>3.584559</td>\n",
       "      <td>6.155453</td>\n",
       "      <td>0.384093</td>\n",
       "      <td>1.060964</td>\n",
       "      <td>...</td>\n",
       "      <td>0.926153</td>\n",
       "      <td>1.252352</td>\n",
       "      <td>10.430447</td>\n",
       "      <td>0.785670</td>\n",
       "      <td>1.392224</td>\n",
       "      <td>2.085154</td>\n",
       "      <td>1.355986</td>\n",
       "      <td>0.407626</td>\n",
       "      <td>0.821037</td>\n",
       "      <td>0.723270</td>\n",
       "    </tr>\n",
       "    <tr>\n",
       "      <th>min</th>\n",
       "      <td>4.000000</td>\n",
       "      <td>3799.00000</td>\n",
       "      <td>-8.000000</td>\n",
       "      <td>2.900000</td>\n",
       "      <td>0.800000</td>\n",
       "      <td>0.300000</td>\n",
       "      <td>0.800000</td>\n",
       "      <td>21.300000</td>\n",
       "      <td>-1.100000</td>\n",
       "      <td>-3.100000</td>\n",
       "      <td>...</td>\n",
       "      <td>0.000000</td>\n",
       "      <td>0.000000</td>\n",
       "      <td>-13.300000</td>\n",
       "      <td>0.000000</td>\n",
       "      <td>0.200000</td>\n",
       "      <td>0.300000</td>\n",
       "      <td>0.000000</td>\n",
       "      <td>0.000000</td>\n",
       "      <td>-17.900000</td>\n",
       "      <td>0.100000</td>\n",
       "    </tr>\n",
       "    <tr>\n",
       "      <th>25%</th>\n",
       "      <td>3413.750000</td>\n",
       "      <td>5798.75000</td>\n",
       "      <td>51.000000</td>\n",
       "      <td>12.000000</td>\n",
       "      <td>4.100000</td>\n",
       "      <td>1.600000</td>\n",
       "      <td>3.600000</td>\n",
       "      <td>40.400000</td>\n",
       "      <td>0.000000</td>\n",
       "      <td>0.100000</td>\n",
       "      <td>...</td>\n",
       "      <td>0.700000</td>\n",
       "      <td>1.000000</td>\n",
       "      <td>65.000000</td>\n",
       "      <td>0.500000</td>\n",
       "      <td>1.100000</td>\n",
       "      <td>1.700000</td>\n",
       "      <td>0.700000</td>\n",
       "      <td>0.300000</td>\n",
       "      <td>0.100000</td>\n",
       "      <td>0.700000</td>\n",
       "    </tr>\n",
       "    <tr>\n",
       "      <th>50%</th>\n",
       "      <td>6787.500000</td>\n",
       "      <td>7798.50000</td>\n",
       "      <td>63.000000</td>\n",
       "      <td>16.800000</td>\n",
       "      <td>6.300000</td>\n",
       "      <td>2.400000</td>\n",
       "      <td>5.400000</td>\n",
       "      <td>44.400000</td>\n",
       "      <td>0.300000</td>\n",
       "      <td>0.800000</td>\n",
       "      <td>...</td>\n",
       "      <td>1.200000</td>\n",
       "      <td>1.700000</td>\n",
       "      <td>71.400000</td>\n",
       "      <td>0.900000</td>\n",
       "      <td>1.900000</td>\n",
       "      <td>2.800000</td>\n",
       "      <td>1.300000</td>\n",
       "      <td>0.600000</td>\n",
       "      <td>0.200000</td>\n",
       "      <td>1.100000</td>\n",
       "    </tr>\n",
       "    <tr>\n",
       "      <th>75%</th>\n",
       "      <td>10299.250000</td>\n",
       "      <td>9798.25000</td>\n",
       "      <td>74.000000</td>\n",
       "      <td>23.500000</td>\n",
       "      <td>9.500000</td>\n",
       "      <td>3.700000</td>\n",
       "      <td>8.100000</td>\n",
       "      <td>48.700000</td>\n",
       "      <td>0.500000</td>\n",
       "      <td>1.500000</td>\n",
       "      <td>...</td>\n",
       "      <td>1.900000</td>\n",
       "      <td>2.600000</td>\n",
       "      <td>77.500000</td>\n",
       "      <td>1.500000</td>\n",
       "      <td>2.900000</td>\n",
       "      <td>4.300000</td>\n",
       "      <td>2.200000</td>\n",
       "      <td>0.900000</td>\n",
       "      <td>0.400000</td>\n",
       "      <td>1.600000</td>\n",
       "    </tr>\n",
       "    <tr>\n",
       "      <th>max</th>\n",
       "      <td>13798.000000</td>\n",
       "      <td>11798.00000</td>\n",
       "      <td>123.000000</td>\n",
       "      <td>73.800000</td>\n",
       "      <td>34.200000</td>\n",
       "      <td>13.100000</td>\n",
       "      <td>28.900000</td>\n",
       "      <td>67.200000</td>\n",
       "      <td>1.700000</td>\n",
       "      <td>4.700000</td>\n",
       "      <td>...</td>\n",
       "      <td>8.100000</td>\n",
       "      <td>11.100000</td>\n",
       "      <td>168.900000</td>\n",
       "      <td>5.500000</td>\n",
       "      <td>11.000000</td>\n",
       "      <td>15.900000</td>\n",
       "      <td>12.800000</td>\n",
       "      <td>3.600000</td>\n",
       "      <td>18.900000</td>\n",
       "      <td>5.300000</td>\n",
       "    </tr>\n",
       "  </tbody>\n",
       "</table>\n",
       "<p>8 rows × 21 columns</p>\n",
       "</div>"
      ],
      "text/plain": [
       "             Id_old           Id           GP          MIN          PTS  \\\n",
       "count   8000.000000   8000.00000  8000.000000  8000.000000  8000.000000   \n",
       "mean    6856.971000   7798.50000    62.777875    18.576663     7.267087   \n",
       "std     3977.447579   2309.54541    17.118774     8.935263     4.318732   \n",
       "min        4.000000   3799.00000    -8.000000     2.900000     0.800000   \n",
       "25%     3413.750000   5798.75000    51.000000    12.000000     4.100000   \n",
       "50%     6787.500000   7798.50000    63.000000    16.800000     6.300000   \n",
       "75%    10299.250000   9798.25000    74.000000    23.500000     9.500000   \n",
       "max    13798.000000  11798.00000   123.000000    73.800000    34.200000   \n",
       "\n",
       "               FGM          FGA          FG%      3P Made          3PA  ...  \\\n",
       "count  8000.000000  8000.000000  8000.000000  8000.000000  8000.000000  ...   \n",
       "mean      2.807037     6.231213    44.608900     0.264525     0.816563  ...   \n",
       "std       1.693373     3.584559     6.155453     0.384093     1.060964  ...   \n",
       "min       0.300000     0.800000    21.300000    -1.100000    -3.100000  ...   \n",
       "25%       1.600000     3.600000    40.400000     0.000000     0.100000  ...   \n",
       "50%       2.400000     5.400000    44.400000     0.300000     0.800000  ...   \n",
       "75%       3.700000     8.100000    48.700000     0.500000     1.500000  ...   \n",
       "max      13.100000    28.900000    67.200000     1.700000     4.700000  ...   \n",
       "\n",
       "               FTM          FTA          FT%         OREB         DREB  \\\n",
       "count  8000.000000  8000.000000  8000.000000  8000.000000  8000.000000   \n",
       "mean      1.392525     1.947787    71.365825     1.077838     2.168500   \n",
       "std       0.926153     1.252352    10.430447     0.785670     1.392224   \n",
       "min       0.000000     0.000000   -13.300000     0.000000     0.200000   \n",
       "25%       0.700000     1.000000    65.000000     0.500000     1.100000   \n",
       "50%       1.200000     1.700000    71.400000     0.900000     1.900000   \n",
       "75%       1.900000     2.600000    77.500000     1.500000     2.900000   \n",
       "max       8.100000    11.100000   168.900000     5.500000    11.000000   \n",
       "\n",
       "               REB          AST          STL          BLK          TOV  \n",
       "count  8000.000000  8000.000000  8000.000000  8000.000000  8000.000000  \n",
       "mean      3.245300     1.624513     0.648688     0.245212     1.257762  \n",
       "std       2.085154     1.355986     0.407626     0.821037     0.723270  \n",
       "min       0.300000     0.000000     0.000000   -17.900000     0.100000  \n",
       "25%       1.700000     0.700000     0.300000     0.100000     0.700000  \n",
       "50%       2.800000     1.300000     0.600000     0.200000     1.100000  \n",
       "75%       4.300000     2.200000     0.900000     0.400000     1.600000  \n",
       "max      15.900000    12.800000     3.600000    18.900000     5.300000  \n",
       "\n",
       "[8 rows x 21 columns]"
      ]
     },
     "execution_count": 76,
     "metadata": {},
     "output_type": "execute_result"
    }
   ],
   "source": [
    "df_train_original.describe()"
   ]
  },
  {
   "cell_type": "code",
   "execution_count": 77,
   "metadata": {},
   "outputs": [
    {
     "data": {
      "text/plain": [
       "['../models/scaler.joblib']"
      ]
     },
     "execution_count": 77,
     "metadata": {},
     "output_type": "execute_result"
    }
   ],
   "source": [
    "#feature scaling\n",
    "scaler = StandardScaler()\n",
    "df_train = scaler.fit_transform(df_train_original)\n",
    "\n",
    "from joblib import dump\n",
    "#Save the scaler into the folder models and call the file scaler.joblib\n",
    "dump(scaler, '../models/scaler.joblib')"
   ]
  },
  {
   "cell_type": "code",
   "execution_count": 78,
   "metadata": {},
   "outputs": [],
   "source": [
    "#Splitting the training data (80%) randomly with random_state=8 into 2 different sets: training (80%) and validation (20%)\n",
    "\n",
    "x_train, x_val, y_train, y_val = train_test_split(df_train, target, test_size=0.2, random_state=8)\n",
    "\n",
    "#save models \n",
    "np.save('../data/processed/X_train', x_train)\n",
    "np.save('../data/processed/X_val',   x_val)\n",
    "np.save('../data/processed/y_train', y_train)\n",
    "np.save('../data/processed/y_val',   y_val)\n"
   ]
  },
  {
   "cell_type": "code",
   "execution_count": 79,
   "metadata": {},
   "outputs": [
    {
     "data": {
      "text/plain": [
       "['../models/logistic0.joblib']"
      ]
     },
     "execution_count": 79,
     "metadata": {},
     "output_type": "execute_result"
    }
   ],
   "source": [
    "#baseline model - logistic with no penality \n",
    "lr = LogisticRegression(penalty='none')\n",
    "lr.fit(x_train, y_train)\n",
    "y_val_preds = lr.predict(x_val)\n",
    "y_val_preds_prob = lr.predict_proba(x_val)\n",
    "\n",
    "#save model as logistic_base \n",
    "dump(lr,  '../models/logistic0.joblib')"
   ]
  },
  {
   "cell_type": "code",
   "execution_count": 80,
   "metadata": {},
   "outputs": [
    {
     "data": {
      "image/png": "[encoded data removed]",
      "text/plain": [
       "<Figure size 432x288 with 1 Axes>"
      ]
     },
     "metadata": {
      "needs_background": "light"
     },
     "output_type": "display_data"
    }
   ],
   "source": [
    "#AUC_ROC\n",
    "preds = y_val_preds_prob[:,1]\n",
    "fpr, tpr, threshold = metrics.roc_curve(y_val, preds)\n",
    "roc_auc = metrics.auc(fpr, tpr)\n",
    "\n",
    "# method I: plt\n",
    "import matplotlib.pyplot as plt\n",
    "plt.title('Receiver Operating Characteristic - base')\n",
    "plt.plot(fpr, tpr, 'b', label = 'AUC = %0.6f' % roc_auc)\n",
    "plt.legend(loc = 'lower right')\n",
    "plt.plot([0, 1], [0, 1],'r--')\n",
    "plt.xlim([0, 1])\n",
    "plt.ylim([0, 1])\n",
    "plt.ylabel('True Positive Rate')\n",
    "plt.xlabel('False Positive Rate')\n",
    "plt.show()"
   ]
  },
  {
   "cell_type": "code",
   "execution_count": 81,
   "metadata": {},
   "outputs": [
    {
     "data": {
      "text/plain": [
       "array([[ 0. ,  0. ,  0.5,  0.1, -0.2,  0.3, -0.1,  0.1,  0.7, -0.7,  0. ,\n",
       "        -0.3,  0.4,  0.1,  0.6,  0.5, -0.9,  0.2, -0. ,  0.1, -0.1]])"
      ]
     },
     "execution_count": 81,
     "metadata": {},
     "output_type": "execute_result"
    }
   ],
   "source": [
    "np.round(lr.coef_,1)"
   ]
  },
  {
   "cell_type": "code",
   "execution_count": 82,
   "metadata": {},
   "outputs": [
    {
     "data": {
      "text/plain": [
       "['../models/logistic_l1.joblib']"
      ]
     },
     "execution_count": 82,
     "metadata": {},
     "output_type": "execute_result"
    }
   ],
   "source": [
    "#LR1 - regularisation\n",
    "lr_l1 = LogisticRegression(penalty='l1', solver='liblinear')\n",
    "lr_l1.fit(x_train, y_train)\n",
    "y_val_preds_l1 = lr_l1.predict(x_val)\n",
    "y_val_preds_prob_l1 = lr_l1.predict_proba(x_val)\n",
    "\n",
    "#save model as logistic_base \n",
    "dump(lr,  '../models/logistic_l1.joblib')"
   ]
  },
  {
   "cell_type": "code",
   "execution_count": 83,
   "metadata": {},
   "outputs": [
    {
     "data": {
      "image/png": "[encoded data removed]",
      "text/plain": [
       "<Figure size 432x288 with 1 Axes>"
      ]
     },
     "metadata": {
      "needs_background": "light"
     },
     "output_type": "display_data"
    }
   ],
   "source": [
    "#AUC_ROC\n",
    "preds_l1 = y_val_preds_prob_l1[:,1]\n",
    "fpr, tpr, threshold = metrics.roc_curve(y_val, preds_l1)\n",
    "roc_auc_l1 = metrics.auc(fpr, tpr)\n",
    "\n",
    "# method I: plt\n",
    "import matplotlib.pyplot as plt\n",
    "plt.title('Receiver Operating Characteristic - base')\n",
    "plt.plot(fpr, tpr, 'b', label = 'AUC = %0.6f' % roc_auc_l1)\n",
    "plt.legend(loc = 'lower right')\n",
    "plt.plot([0, 1], [0, 1],'r--')\n",
    "plt.xlim([0, 1])\n",
    "plt.ylim([0, 1])\n",
    "plt.ylabel('True Positive Rate')\n",
    "plt.xlabel('False Positive Rate')\n",
    "plt.show()"
   ]
  },
  {
   "cell_type": "code",
   "execution_count": 84,
   "metadata": {},
   "outputs": [
    {
     "data": {
      "text/plain": [
       "array([[ 0. ,  0. ,  0.5,  0.1,  0. ,  0. , -0. ,  0.2,  0.6, -0.6,  0. ,\n",
       "        -0.1,  0.2,  0.1,  0.5,  0.1, -0.3,  0.2, -0. ,  0.1, -0.1]])"
      ]
     },
     "execution_count": 84,
     "metadata": {},
     "output_type": "execute_result"
    }
   ],
   "source": [
    "np.round(lr_l1.coef_,1)"
   ]
  },
  {
   "cell_type": "code",
   "execution_count": 85,
   "metadata": {},
   "outputs": [
    {
     "data": {
      "text/plain": [
       "['../models/logistic_l2.joblib']"
      ]
     },
     "execution_count": 85,
     "metadata": {},
     "output_type": "execute_result"
    }
   ],
   "source": [
    "#LR2 - regularisation\n",
    "lr_l2 = LogisticRegression(penalty='l2', solver='liblinear')\n",
    "lr_l2.fit(x_train, y_train)\n",
    "y_val_preds_l2 = lr_l2.predict(x_val)\n",
    "y_val_preds_prob_l2 = lr_l2.predict_proba(x_val)\n",
    "\n",
    "#save model as logistic \n",
    "dump(lr,  '../models/logistic_l2.joblib')"
   ]
  },
  {
   "cell_type": "code",
   "execution_count": 86,
   "metadata": {},
   "outputs": [
    {
     "data": {
      "image/png": "[encoded data removed]",
      "text/plain": [
       "<Figure size 432x288 with 1 Axes>"
      ]
     },
     "metadata": {
      "needs_background": "light"
     },
     "output_type": "display_data"
    }
   ],
   "source": [
    "#AUC_ROC\n",
    "preds_l2 = y_val_preds_prob_l2[:,1]\n",
    "fpr, tpr, threshold = metrics.roc_curve(y_val, preds_l2)\n",
    "roc_auc_l2 = metrics.auc(fpr, tpr)\n",
    "\n",
    "# method I: plt\n",
    "import matplotlib.pyplot as plt\n",
    "plt.title('Receiver Operating Characteristic - base')\n",
    "plt.plot(fpr, tpr, 'b', label = 'AUC = %0.6f' % roc_auc_l2)\n",
    "plt.legend(loc = 'lower right')\n",
    "plt.plot([0, 1], [0, 1],'r--')\n",
    "plt.xlim([0, 1])\n",
    "plt.ylim([0, 1])\n",
    "plt.ylabel('True Positive Rate')\n",
    "plt.xlabel('False Positive Rate')\n",
    "plt.show()"
   ]
  },
  {
   "cell_type": "code",
   "execution_count": 87,
   "metadata": {},
   "outputs": [
    {
     "data": {
      "text/plain": [
       "array([[ 0. ,  0. ,  0.5,  0.1, -0.1,  0.2, -0.1,  0.2,  0.7, -0.6,  0. ,\n",
       "        -0.2,  0.3,  0.1,  0.5,  0.3, -0.6,  0.2, -0. ,  0.1, -0.1]])"
      ]
     },
     "execution_count": 87,
     "metadata": {},
     "output_type": "execute_result"
    }
   ],
   "source": [
    "np.round(lr_l2.coef_,1)"
   ]
  },
  {
   "cell_type": "code",
   "execution_count": 88,
   "metadata": {},
   "outputs": [
    {
     "data": {
      "text/plain": [
       "['../models/logistic_elastic.joblib']"
      ]
     },
     "execution_count": 88,
     "metadata": {},
     "output_type": "execute_result"
    }
   ],
   "source": [
    "#elasticnet - regularisation\n",
    "lr_elastic = LogisticRegression(solver='saga')\n",
    "lr_elastic.fit(x_train, y_train)\n",
    "y_val_preds_elastic = lr_elastic.predict(x_val)\n",
    "y_val_preds_prob_elastic = lr_elastic.predict_proba(x_val)\n",
    "\n",
    "#save model as logistic \n",
    "dump(lr,  '../models/logistic_elastic.joblib')"
   ]
  },
  {
   "cell_type": "code",
   "execution_count": 89,
   "metadata": {},
   "outputs": [
    {
     "data": {
      "image/png": "[encoded data removed]",
      "text/plain": [
       "<Figure size 432x288 with 1 Axes>"
      ]
     },
     "metadata": {
      "needs_background": "light"
     },
     "output_type": "display_data"
    }
   ],
   "source": [
    "#AUC_ROC\n",
    "preds_elastic = y_val_preds_prob_elastic[:,1]\n",
    "fpr, tpr, threshold = metrics.roc_curve(y_val, preds_elastic)\n",
    "roc_auc_elastic = metrics.auc(fpr, tpr)\n",
    "\n",
    "# method I: plt\n",
    "import matplotlib.pyplot as plt\n",
    "plt.title('Receiver Operating Characteristic - base')\n",
    "plt.plot(fpr, tpr, 'b', label = 'AUC = %0.6f' % roc_auc_elastic)\n",
    "plt.legend(loc = 'lower right')\n",
    "plt.plot([0, 1], [0, 1],'r--')\n",
    "plt.xlim([0, 1])\n",
    "plt.ylim([0, 1])\n",
    "plt.ylabel('True Positive Rate')\n",
    "plt.xlabel('False Positive Rate')\n",
    "plt.show()"
   ]
  },
  {
   "cell_type": "code",
   "execution_count": 90,
   "metadata": {},
   "outputs": [
    {
     "data": {
      "text/plain": [
       "array([[ 0. ,  0. ,  0.5,  0.1, -0.1,  0.1, -0.1,  0.2,  0.7, -0.6,  0. ,\n",
       "        -0.2,  0.3,  0.1,  0.5,  0.1, -0.4,  0.2, -0. ,  0.1, -0.1]])"
      ]
     },
     "execution_count": 90,
     "metadata": {},
     "output_type": "execute_result"
    }
   ],
   "source": [
    "np.round(lr_elastic.coef_,1)"
   ]
  },
  {
   "cell_type": "code",
   "execution_count": 99,
   "metadata": {},
   "outputs": [
    {
     "data": {
      "text/plain": [
       "['../models/logistic_elastic1.joblib']"
      ]
     },
     "execution_count": 99,
     "metadata": {},
     "output_type": "execute_result"
    }
   ],
   "source": [
    "#elasticnet - with l1 ratio\n",
    "lr_elastic1 = LogisticRegression(penalty = 'elasticnet',l1_ratio=0.4, solver='saga')\n",
    "lr_elastic1.fit(x_train, y_train)\n",
    "y_val_preds_elastic1 = lr_elastic1.predict(x_val)\n",
    "y_val_preds_prob_elastic1 = lr_elastic1.predict_proba(x_val)\n",
    "\n",
    "#save model as logistic \n",
    "dump(lr,  '../models/logistic_elastic1.joblib')"
   ]
  },
  {
   "cell_type": "code",
   "execution_count": 100,
   "metadata": {},
   "outputs": [
    {
     "data": {
      "image/png": "[encoded data removed]",
      "text/plain": [
       "<Figure size 432x288 with 1 Axes>"
      ]
     },
     "metadata": {
      "needs_background": "light"
     },
     "output_type": "display_data"
    }
   ],
   "source": [
    "#AUC_ROC\n",
    "preds_elastic1 = y_val_preds_prob_elastic1[:,1]\n",
    "fpr, tpr, threshold = metrics.roc_curve(y_val, preds_elastic1)\n",
    "roc_auc_elastic = metrics.auc(fpr, tpr)\n",
    "\n",
    "# method I: plt\n",
    "import matplotlib.pyplot as plt\n",
    "plt.title('Receiver Operating Characteristic - base')\n",
    "plt.plot(fpr, tpr, 'b', label = 'AUC = %0.6f' % roc_auc_elastic1)\n",
    "plt.legend(loc = 'lower right')\n",
    "plt.plot([0, 1], [0, 1],'r--')\n",
    "plt.xlim([0, 1])\n",
    "plt.ylim([0, 1])\n",
    "plt.ylabel('True Positive Rate')\n",
    "plt.xlabel('False Positive Rate')\n",
    "plt.show()"
   ]
  },
  {
   "cell_type": "code",
   "execution_count": 101,
   "metadata": {},
   "outputs": [
    {
     "data": {
      "text/plain": [
       "array([[ 0. ,  0. ,  0.5,  0.1, -0. ,  0. , -0.1,  0.2,  0.6, -0.6,  0. ,\n",
       "        -0.2,  0.2,  0.1,  0.5,  0.1, -0.3,  0.2, -0. ,  0.1, -0.1]])"
      ]
     },
     "execution_count": 101,
     "metadata": {},
     "output_type": "execute_result"
    }
   ],
   "source": [
    "np.round(lr_elastic1.coef_,1)"
   ]
  },
  {
   "cell_type": "code",
   "execution_count": 102,
   "metadata": {},
   "outputs": [],
   "source": [
    "co_efficients=np.vstack((np.round(lr.coef_,1),np.round(lr_l1.coef_,1),np.round(lr_l2.coef_,1),np.round(lr_elastic.coef_,1),np.round(lr_elastic1.coef_,1)))"
   ]
  },
  {
   "cell_type": "code",
   "execution_count": 103,
   "metadata": {},
   "outputs": [
    {
     "data": {
      "text/html": [
       "<div>\n",
       "<style scoped>\n",
       "    .dataframe tbody tr th:only-of-type {\n",
       "        vertical-align: middle;\n",
       "    }\n",
       "\n",
       "    .dataframe tbody tr th {\n",
       "        vertical-align: top;\n",
       "    }\n",
       "\n",
       "    .dataframe thead th {\n",
       "        text-align: right;\n",
       "    }\n",
       "</style>\n",
       "<table border=\"1\" class=\"dataframe\">\n",
       "  <thead>\n",
       "    <tr style=\"text-align: right;\">\n",
       "      <th></th>\n",
       "      <th>Id_old</th>\n",
       "      <th>Id</th>\n",
       "      <th>GP</th>\n",
       "      <th>MIN</th>\n",
       "      <th>PTS</th>\n",
       "      <th>FGM</th>\n",
       "      <th>FGA</th>\n",
       "      <th>FG%</th>\n",
       "      <th>3P Made</th>\n",
       "      <th>3PA</th>\n",
       "      <th>...</th>\n",
       "      <th>FTM</th>\n",
       "      <th>FTA</th>\n",
       "      <th>FT%</th>\n",
       "      <th>OREB</th>\n",
       "      <th>DREB</th>\n",
       "      <th>REB</th>\n",
       "      <th>AST</th>\n",
       "      <th>STL</th>\n",
       "      <th>BLK</th>\n",
       "      <th>TOV</th>\n",
       "    </tr>\n",
       "  </thead>\n",
       "  <tbody>\n",
       "    <tr>\n",
       "      <th>0</th>\n",
       "      <td>0.0</td>\n",
       "      <td>0.0</td>\n",
       "      <td>0.5</td>\n",
       "      <td>0.1</td>\n",
       "      <td>-0.2</td>\n",
       "      <td>0.3</td>\n",
       "      <td>-0.1</td>\n",
       "      <td>0.1</td>\n",
       "      <td>0.7</td>\n",
       "      <td>-0.7</td>\n",
       "      <td>...</td>\n",
       "      <td>-0.3</td>\n",
       "      <td>0.4</td>\n",
       "      <td>0.1</td>\n",
       "      <td>0.6</td>\n",
       "      <td>0.5</td>\n",
       "      <td>-0.9</td>\n",
       "      <td>0.2</td>\n",
       "      <td>-0.0</td>\n",
       "      <td>0.1</td>\n",
       "      <td>-0.1</td>\n",
       "    </tr>\n",
       "    <tr>\n",
       "      <th>1</th>\n",
       "      <td>0.0</td>\n",
       "      <td>0.0</td>\n",
       "      <td>0.5</td>\n",
       "      <td>0.1</td>\n",
       "      <td>0.0</td>\n",
       "      <td>0.0</td>\n",
       "      <td>-0.0</td>\n",
       "      <td>0.2</td>\n",
       "      <td>0.6</td>\n",
       "      <td>-0.6</td>\n",
       "      <td>...</td>\n",
       "      <td>-0.1</td>\n",
       "      <td>0.2</td>\n",
       "      <td>0.1</td>\n",
       "      <td>0.5</td>\n",
       "      <td>0.1</td>\n",
       "      <td>-0.3</td>\n",
       "      <td>0.2</td>\n",
       "      <td>-0.0</td>\n",
       "      <td>0.1</td>\n",
       "      <td>-0.1</td>\n",
       "    </tr>\n",
       "    <tr>\n",
       "      <th>2</th>\n",
       "      <td>0.0</td>\n",
       "      <td>0.0</td>\n",
       "      <td>0.5</td>\n",
       "      <td>0.1</td>\n",
       "      <td>-0.1</td>\n",
       "      <td>0.2</td>\n",
       "      <td>-0.1</td>\n",
       "      <td>0.2</td>\n",
       "      <td>0.7</td>\n",
       "      <td>-0.6</td>\n",
       "      <td>...</td>\n",
       "      <td>-0.2</td>\n",
       "      <td>0.3</td>\n",
       "      <td>0.1</td>\n",
       "      <td>0.5</td>\n",
       "      <td>0.3</td>\n",
       "      <td>-0.6</td>\n",
       "      <td>0.2</td>\n",
       "      <td>-0.0</td>\n",
       "      <td>0.1</td>\n",
       "      <td>-0.1</td>\n",
       "    </tr>\n",
       "    <tr>\n",
       "      <th>3</th>\n",
       "      <td>0.0</td>\n",
       "      <td>0.0</td>\n",
       "      <td>0.5</td>\n",
       "      <td>0.1</td>\n",
       "      <td>-0.1</td>\n",
       "      <td>0.1</td>\n",
       "      <td>-0.1</td>\n",
       "      <td>0.2</td>\n",
       "      <td>0.7</td>\n",
       "      <td>-0.6</td>\n",
       "      <td>...</td>\n",
       "      <td>-0.2</td>\n",
       "      <td>0.3</td>\n",
       "      <td>0.1</td>\n",
       "      <td>0.5</td>\n",
       "      <td>0.1</td>\n",
       "      <td>-0.4</td>\n",
       "      <td>0.2</td>\n",
       "      <td>-0.0</td>\n",
       "      <td>0.1</td>\n",
       "      <td>-0.1</td>\n",
       "    </tr>\n",
       "    <tr>\n",
       "      <th>4</th>\n",
       "      <td>0.0</td>\n",
       "      <td>0.0</td>\n",
       "      <td>0.5</td>\n",
       "      <td>0.1</td>\n",
       "      <td>-0.0</td>\n",
       "      <td>0.0</td>\n",
       "      <td>-0.1</td>\n",
       "      <td>0.2</td>\n",
       "      <td>0.6</td>\n",
       "      <td>-0.6</td>\n",
       "      <td>...</td>\n",
       "      <td>-0.2</td>\n",
       "      <td>0.2</td>\n",
       "      <td>0.1</td>\n",
       "      <td>0.5</td>\n",
       "      <td>0.1</td>\n",
       "      <td>-0.3</td>\n",
       "      <td>0.2</td>\n",
       "      <td>-0.0</td>\n",
       "      <td>0.1</td>\n",
       "      <td>-0.1</td>\n",
       "    </tr>\n",
       "  </tbody>\n",
       "</table>\n",
       "<p>5 rows × 21 columns</p>\n",
       "</div>"
      ],
      "text/plain": [
       "   Id_old   Id   GP  MIN  PTS  FGM  FGA  FG%  3P Made  3PA  ...  FTM  FTA  \\\n",
       "0     0.0  0.0  0.5  0.1 -0.2  0.3 -0.1  0.1      0.7 -0.7  ... -0.3  0.4   \n",
       "1     0.0  0.0  0.5  0.1  0.0  0.0 -0.0  0.2      0.6 -0.6  ... -0.1  0.2   \n",
       "2     0.0  0.0  0.5  0.1 -0.1  0.2 -0.1  0.2      0.7 -0.6  ... -0.2  0.3   \n",
       "3     0.0  0.0  0.5  0.1 -0.1  0.1 -0.1  0.2      0.7 -0.6  ... -0.2  0.3   \n",
       "4     0.0  0.0  0.5  0.1 -0.0  0.0 -0.1  0.2      0.6 -0.6  ... -0.2  0.2   \n",
       "\n",
       "   FT%  OREB  DREB  REB  AST  STL  BLK  TOV  \n",
       "0  0.1   0.6   0.5 -0.9  0.2 -0.0  0.1 -0.1  \n",
       "1  0.1   0.5   0.1 -0.3  0.2 -0.0  0.1 -0.1  \n",
       "2  0.1   0.5   0.3 -0.6  0.2 -0.0  0.1 -0.1  \n",
       "3  0.1   0.5   0.1 -0.4  0.2 -0.0  0.1 -0.1  \n",
       "4  0.1   0.5   0.1 -0.3  0.2 -0.0  0.1 -0.1  \n",
       "\n",
       "[5 rows x 21 columns]"
      ]
     },
     "execution_count": 103,
     "metadata": {},
     "output_type": "execute_result"
    }
   ],
   "source": [
    "pd.DataFrame(co_efficients, columns=df_train_original.columns)"
   ]
  },
  {
   "cell_type": "markdown",
   "metadata": {},
   "source": [
    "AUC ROC for all the models: \n",
    "#0 - Logistic regression - 0.706288\n",
    "#1 - Logistic with L1 regularisation - 0.705935\n",
    "#2 - Logistic with L2 regularisation - 0.706100 \n",
    "#3 - Logistic with elastic net - 0.705746 \n",
    "#4 - Logistic with elastic and L1 ratio -0.705682\n",
    "\n",
    "Choosing l2 model due to higher AOC. "
   ]
  },
  {
   "cell_type": "code",
   "execution_count": 105,
   "metadata": {},
   "outputs": [],
   "source": [
    "#using L2 to predict test set \n",
    "y_test = lr_elastic.predict_proba(df_test)\n"
   ]
  },
  {
   "cell_type": "code",
   "execution_count": 108,
   "metadata": {},
   "outputs": [
    {
     "name": "stdout",
     "output_type": "stream",
     "text": [
      "[[0. 1.]\n",
      " [0. 1.]\n",
      " [0. 1.]\n",
      " ...\n",
      " [0. 1.]\n",
      " [0. 1.]\n",
      " [0. 1.]]\n"
     ]
    }
   ],
   "source": [
    "print(y_test)"
   ]
  },
  {
   "cell_type": "code",
   "execution_count": null,
   "metadata": {},
   "outputs": [],
   "source": []
  }
 ],
 "metadata": {
  "kernelspec": {
   "display_name": "Python 3",
   "language": "python",
   "name": "python3"
  },
  "language_info": {
   "codemirror_mode": {
    "name": "ipython",
    "version": 3
   },
   "file_extension": ".py",
   "mimetype": "text/x-python",
   "name": "python",
   "nbconvert_exporter": "python",
   "pygments_lexer": "ipython3",
   "version": "3.8.3"
  }
 },
 "nbformat": 4,
 "nbformat_minor": 4
}
